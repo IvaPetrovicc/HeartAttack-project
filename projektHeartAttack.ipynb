{
 "cells": [
  {
   "cell_type": "markdown",
   "id": "f99279c8-e957-4215-b372-02d35eb5cdd5",
   "metadata": {},
   "source": [
    "**Analiza i predikcija srčanog udara - (Kaggle dataset)**\n"
   ]
  },
  {
   "cell_type": "markdown",
   "id": "79d9af30-4d9b-4122-abe6-0c0e1b45dadf",
   "metadata": {},
   "source": [
    "| **Značajka** | **Opis**                                                                                                                                                                                                                                                                              |\r\n",
    "|--------------|----------------------------------------------------------------------------------------------------------------------------------------------------------------------------------------------------------------------------------------------------------------------------------------|\r\n",
    "| age          | Dob u godinama                                                                                                                                                                                                                                                                         |\r\n",
    "| sex          | Spol: 1 = muško, 0 = žensko                                                                                                                                                                                                                                                                    |\r\n",
    "| cp           | Vrsta bolova u prsima: <br> 0: Tipična angina - bol u prsima povezana smanjenjem dotoka krvi u srce <br> 1: Atipična angina - bol u prsima koja nije povezana s srcem <br> 2: Neanginalna bol - obično ezofagealni grčevi (ne povezani s srcem) <br> 3: Asimptomatski - bol u prsima bez znakova bolesti |\r\n",
    "| trestbps     | Krvni tlak u mirovanju (u mm Hg prilikom prijema u bolnicu). Sve iznad 130-140 obično je razlog za zabrinutost                                                                                                                                                                     |\r\n",
    "| chol         | Serumski kolesterol u mg/dl. Serum = LDL + HDL + .2 * trigliceridi. Vrijednosti iznad 200 uzrokuju zabrinutost                                                                                                                                                                       |\r\n",
    "| fbs          | Razina glukoze u krvi natašte > 120 mg/dl (1 = istina, 0 = laž)                                                                                                                                                                                                                         |\r\n",
    "| restecg      | Rezultati elektrokardiografskog snimanja u mirovanju: <br> 0: Ništa posebno <br> 1: Abnormalnost ST-T valova - signalizira nepravilan otkucaj srca <br> 2: Moguća ili definitivna hipertrofija lijeve klijetke - proširenje glavnog kamere srca za pumpanje                                                                   |\r\n",
    "| thalach      | Maksimalna postignuta brzina otkucaja srca                                                                                                                                                                                                                                                              |\r\n",
    "| exang        | Angina uzrokovana vježbanjem (1 = da, 0 = ne)                                                                                                                                                                                                                                                          |\r\n",
    "| oldpeak      | ST depresija uzrokovana vježbanjem u odnosu na mirovanje. Pokazuje stres srca tijekom vježbanja. Nezdravo srce će se više stresirati                                                                                                                                                         |\r\n",
    "| slope        | Nagib vrha vježbanja segmenta ST: <br> 0: Uzlazni - bolja brzina otkucaja srca uz vježbanje (neobično) <br> 1: Ravni - minimalna promjena (tipično zdravo srce) <br> 2: Silazni - znakovi nezdravog srca                                                                  |\r\n",
    "| ca           | Broj glavnih krvnih žila (0-3) koje su obojene fluoroskopijom. Obojena žila znači da liječnik može vidjeti krv koja prolazi kroz nju. Što više krvnog pokreta, to bolje (nema ugrušaka)                                                                                                            |\r\n",
    "| thal         | Rezultat talijanskog stresnog testa: <br> 1, 3: Normalno <br> 6: Fiksni defekt - nekad je bio defekt, ali je sada u redu <br> 7: Obratni defekt - nema pravilnog krvnog toka tijekom vježbanja                                                                                                                      |\r\n",
    "| target       | Ima li bolest ili ne (1 = da, 0 = ne)                                                                                                                                                                                                                                                                               |\r\n"
   ]
  },
  {
   "cell_type": "code",
   "execution_count": 92,
   "id": "8ac9df88-15dd-4981-9ba6-9c94318f25df",
   "metadata": {},
   "outputs": [],
   "source": [
    "import pandas as pd\n",
    "import numpy as np\n",
    "import torch\n",
    "import torch.nn as nn\n",
    "import torch.optim as optim\n",
    "from torch.utils.data import DataLoader, TensorDataset, random_split\n",
    "from sklearn.preprocessing import StandardScaler\n",
    "from sklearn.linear_model import LogisticRegression\n",
    "from sklearn.neighbors import KNeighborsClassifier\n",
    "from sklearn.svm import SVC\n",
    "from sklearn.ensemble import RandomForestClassifier\n",
    "from sklearn.tree import DecisionTreeClassifier\n",
    "from sklearn.model_selection import train_test_split\n",
    "from sklearn.metrics import accuracy_score\n",
    "import matplotlib.pyplot as plt\n",
    "import seaborn as sns"
   ]
  },
  {
   "cell_type": "code",
   "execution_count": 93,
   "id": "e0e5fbec-1f08-45bf-bad1-7da09153c783",
   "metadata": {},
   "outputs": [
    {
     "name": "stdout",
     "output_type": "stream",
     "text": [
      "   age  sex  cp  trtbps  chol  fbs  restecg  thalachh  exng  oldpeak  slp  \\\n",
      "0   63    1   3     145   233    1        0       150     0      2.3    0   \n",
      "1   37    1   2     130   250    0        1       187     0      3.5    0   \n",
      "2   41    0   1     130   204    0        0       172     0      1.4    2   \n",
      "3   56    1   1     120   236    0        1       178     0      0.8    2   \n",
      "4   57    0   0     120   354    0        1       163     1      0.6    2   \n",
      "\n",
      "   caa  thall  output  \n",
      "0    0      1       1  \n",
      "1    0      2       1  \n",
      "2    0      2       1  \n",
      "3    0      2       1  \n",
      "4    0      2       1  \n"
     ]
    }
   ],
   "source": [
    "file_path = r'C:\\Users\\HP PC\\Desktop\\heart.csv'\n",
    "data = pd.read_csv(file_path)\n",
    "\n",
    "print(data.head())"
   ]
  },
  {
   "cell_type": "code",
   "execution_count": 94,
   "id": "a2017190-8fc9-4af0-8ca7-d1f207629b41",
   "metadata": {},
   "outputs": [
    {
     "name": "stdout",
     "output_type": "stream",
     "text": [
      "<class 'pandas.core.frame.DataFrame'>\n",
      "RangeIndex: 303 entries, 0 to 302\n",
      "Data columns (total 14 columns):\n",
      " #   Column    Non-Null Count  Dtype  \n",
      "---  ------    --------------  -----  \n",
      " 0   age       303 non-null    int64  \n",
      " 1   sex       303 non-null    int64  \n",
      " 2   cp        303 non-null    int64  \n",
      " 3   trtbps    303 non-null    int64  \n",
      " 4   chol      303 non-null    int64  \n",
      " 5   fbs       303 non-null    int64  \n",
      " 6   restecg   303 non-null    int64  \n",
      " 7   thalachh  303 non-null    int64  \n",
      " 8   exng      303 non-null    int64  \n",
      " 9   oldpeak   303 non-null    float64\n",
      " 10  slp       303 non-null    int64  \n",
      " 11  caa       303 non-null    int64  \n",
      " 12  thall     303 non-null    int64  \n",
      " 13  output    303 non-null    int64  \n",
      "dtypes: float64(1), int64(13)\n",
      "memory usage: 33.3 KB\n",
      "None\n",
      "age         0\n",
      "sex         0\n",
      "cp          0\n",
      "trtbps      0\n",
      "chol        0\n",
      "fbs         0\n",
      "restecg     0\n",
      "thalachh    0\n",
      "exng        0\n",
      "oldpeak     0\n",
      "slp         0\n",
      "caa         0\n",
      "thall       0\n",
      "output      0\n",
      "dtype: int64\n",
      "int64\n",
      "{0, 1}\n",
      "int64\n",
      "{0, 1}\n"
     ]
    }
   ],
   "source": [
    "print(data.info())\n",
    "print(data.isnull().sum())\n",
    "\n",
    "\n",
    "X = data.iloc[:, :-1].values #ulazne\n",
    "y = data.iloc[:, -1].values #ciljna \n",
    "\n",
    "\n",
    "print(y.dtype)\n",
    "print(set(y))\n",
    "\n",
    "\n",
    "print(y.dtype)\n",
    "print(set(y))"
   ]
  },
  {
   "cell_type": "code",
   "execution_count": 95,
   "id": "ebc0bc04-c369-4178-a287-b1da2c5bb968",
   "metadata": {},
   "outputs": [],
   "source": [
    "# Normalizacija podataka\n",
    "scaler = StandardScaler()\n",
    "X = scaler.fit_transform(X)"
   ]
  },
  {
   "cell_type": "code",
   "execution_count": 96,
   "id": "50624dbb-b163-47cc-a929-c44def0e4b99",
   "metadata": {},
   "outputs": [
    {
     "name": "stdout",
     "output_type": "stream",
     "text": [
      "Epoch [1/20], Loss: 0.7640\n",
      "Epoch [2/20], Loss: 0.6219\n",
      "Epoch [3/20], Loss: 0.6285\n",
      "Epoch [4/20], Loss: 0.6058\n",
      "Epoch [5/20], Loss: 0.5093\n",
      "Epoch [6/20], Loss: 0.5211\n",
      "Epoch [7/20], Loss: 0.3900\n",
      "Epoch [8/20], Loss: 0.3884\n",
      "Epoch [9/20], Loss: 0.2842\n",
      "Epoch [10/20], Loss: 0.3552\n",
      "Epoch [11/20], Loss: 0.2597\n",
      "Epoch [12/20], Loss: 0.2864\n",
      "Epoch [13/20], Loss: 0.3724\n",
      "Epoch [14/20], Loss: 0.2714\n",
      "Epoch [15/20], Loss: 0.3248\n",
      "Epoch [16/20], Loss: 0.2138\n",
      "Epoch [17/20], Loss: 0.5033\n",
      "Epoch [18/20], Loss: 0.1762\n",
      "Epoch [19/20], Loss: 0.3494\n",
      "Epoch [20/20], Loss: 0.1869\n",
      "Accuracy of the model on the test set: 78.69%\n"
     ]
    }
   ],
   "source": [
    "#Treniranje i vrednovanje modela neuronske mreže korištenjem PyTorcha\n",
    "\n",
    "X_tensor = torch.tensor(X, dtype=torch.float32)\n",
    "y_tensor = torch.tensor(y, dtype=torch.long)\n",
    "\n",
    "\n",
    "dataset = TensorDataset(X_tensor, y_tensor)\n",
    "\n",
    "train_size = int(0.8 * len(dataset))\n",
    "test_size = len(dataset) - train_size\n",
    "train_dataset, test_dataset = random_split(dataset, [train_size, test_size])\n",
    "\n",
    "train_loader = DataLoader(train_dataset, batch_size=32, shuffle=True)\n",
    "test_loader = DataLoader(test_dataset, batch_size=32, shuffle=False)\n",
    "\n",
    "\n",
    "class NeuralNetwork(nn.Module):\n",
    "    def __init__(self, input_size, hidden_size, num_classes):\n",
    "        super(NeuralNetwork, self).__init__()\n",
    "        self.fc1 = nn.Linear(input_size, hidden_size)\n",
    "        self.relu = nn.ReLU()\n",
    "        self.fc2 = nn.Linear(hidden_size, num_classes)\n",
    "\n",
    "    def forward(self, x):\n",
    "        out = self.fc1(x)\n",
    "        out = self.relu(out)\n",
    "        out = self.fc2(out)\n",
    "        return out\n",
    "\n",
    "input_size = X.shape[1]\n",
    "hidden_size = 50\n",
    "num_classes = len(set(y))\n",
    "model = NeuralNetwork(input_size, hidden_size, num_classes)\n",
    "\n",
    "# funkcija gubitka\n",
    "criterion = nn.CrossEntropyLoss()\n",
    "optimizer = optim.Adam(model.parameters(), lr=0.001)\n",
    "\n",
    "# Treniranje modela\n",
    "num_epochs = 20\n",
    "for epoch in range(num_epochs):\n",
    "    for inputs, labels in train_loader:\n",
    "        outputs = model(inputs)\n",
    "        loss = criterion(outputs, labels)\n",
    "\n",
    "        optimizer.zero_grad()\n",
    "        loss.backward()\n",
    "        optimizer.step()\n",
    "\n",
    "    print(f'Epoch [{epoch+1}/{num_epochs}], Loss: {loss.item():.4f}')\n",
    "\n",
    "# Vrednovanje modela\n",
    "model.eval()\n",
    "with torch.no_grad():\n",
    "    correct = 0\n",
    "    total = 0\n",
    "    for inputs, labels in test_loader:\n",
    "        outputs = model(inputs)\n",
    "        _, predicted = torch.max(outputs.data, 1)\n",
    "        total += labels.size(0)\n",
    "        correct += (predicted == labels).sum().item()\n",
    "\n",
    "    accuracy = 100 * correct / total\n",
    "    print(f'Accuracy of the model on the test set: {accuracy:.2f}%')"
   ]
  },
  {
   "cell_type": "code",
   "execution_count": 97,
   "id": "b1fad0bd-a9c9-472e-957c-17d5152ce1ce",
   "metadata": {},
   "outputs": [
    {
     "name": "stdout",
     "output_type": "stream",
     "text": [
      "Accuracy of Neural Network: 78.69%\n",
      "Accuracy of Logistic Regression: 0.85%\n",
      "Accuracy of KNN: 0.93%\n",
      "Accuracy of SVM: 0.87%\n",
      "Accuracy of Random Forest: 0.87%\n",
      "Accuracy of Decision Tree: 0.82%\n"
     ]
    }
   ],
   "source": [
    "\n",
    "X_train, X_test, y_train, y_test = train_test_split(X, y, test_size=0.2, random_state=42)\n",
    "\n",
    "# Logistička regresija\n",
    "log_reg = LogisticRegression()\n",
    "log_reg.fit(X_train, y_train)\n",
    "y_pred_log_reg = log_reg.predict(X_test)\n",
    "log_reg_acc = accuracy_score(y_test, y_pred_log_reg)\n",
    "\n",
    "# KNN\n",
    "knn = KNeighborsClassifier(n_neighbors=6)\n",
    "knn.fit(X_train, y_train)\n",
    "y_pred_knn = knn.predict(X_test)\n",
    "knn_acc = accuracy_score(y_test, y_pred_knn)\n",
    "\n",
    "# SupportVectorMachine\n",
    "svm = SVC()\n",
    "svm.fit(X_train, y_train)\n",
    "y_pred_svm = svm.predict(X_test)\n",
    "svm_acc = accuracy_score(y_test, y_pred_svm)\n",
    "\n",
    "# Random Forest\n",
    "rf = RandomForestClassifier()\n",
    "rf.fit(X_train, y_train)\n",
    "y_pred_rf = rf.predict(X_test)\n",
    "rf_acc = accuracy_score(y_test, y_pred_rf)\n",
    "\n",
    "# Stablo odluke\n",
    "dt = DecisionTreeClassifier()\n",
    "dt.fit(X_train, y_train)\n",
    "y_pred_dt = dt.predict(X_test)\n",
    "dt_acc = accuracy_score(y_test, y_pred_dt)\n",
    "\n",
    "\n",
    "print(f'Accuracy of Neural Network: {accuracy:.2f}%')\n",
    "print(f'Accuracy of Logistic Regression: {log_reg_acc:.2f}%')\n",
    "print(f'Accuracy of KNN: {knn_acc:.2f}%')\n",
    "print(f'Accuracy of SVM: {svm_acc:.2f}%')\n",
    "print(f'Accuracy of Random Forest: {rf_acc:.2f}%')\n",
    "print(f'Accuracy of Decision Tree: {dt_acc:.2f}%')"
   ]
  },
  {
   "cell_type": "code",
   "execution_count": 99,
   "id": "2f9c411c-a0a5-4fed-9813-7a874178792b",
   "metadata": {},
   "outputs": [
    {
     "name": "stdout",
     "output_type": "stream",
     "text": [
      "                    Model  Testing Accuracy %\n",
      "0     Logistic Regression           85.245902\n",
      "1     K-nearest neighbors           93.442623\n",
      "2  Support Vector Machine           86.885246\n",
      "3           Random Forest           86.885246\n",
      "4           Decision Tree           81.967213\n",
      "5          Neural Network           78.688525\n"
     ]
    }
   ],
   "source": [
    "results = {\n",
    "    'Model': ['Logistic Regression', 'K-nearest neighbors', 'Support Vector Machine', 'Random Forest', 'Decision Tree', 'Neural Network'],\n",
    "    'Testing Accuracy %': [log_reg_acc * 100, knn_acc * 100, svm_acc * 100, rf_acc * 100, dt_acc * 100, accuracy]\n",
    "}\n",
    "\n",
    "results_df = pd.DataFrame(results)\n",
    "\n",
    "\n",
    "print(results_df)\n"
   ]
  },
  {
   "cell_type": "code",
   "execution_count": null,
   "id": "94871a2e-6778-498d-87cf-cada1e58369c",
   "metadata": {},
   "outputs": [],
   "source": []
  }
 ],
 "metadata": {
  "kernelspec": {
   "display_name": "Python 3 (ipykernel)",
   "language": "python",
   "name": "python3"
  },
  "language_info": {
   "codemirror_mode": {
    "name": "ipython",
    "version": 3
   },
   "file_extension": ".py",
   "mimetype": "text/x-python",
   "name": "python",
   "nbconvert_exporter": "python",
   "pygments_lexer": "ipython3",
   "version": "3.11.5"
  }
 },
 "nbformat": 4,
 "nbformat_minor": 5
}
